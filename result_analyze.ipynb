{
 "cells": [
  {
   "cell_type": "code",
   "execution_count": 1,
   "metadata": {},
   "outputs": [],
   "source": [
    "import os\n",
    "import pickle\n",
    "\n",
    "import pandas as pd\n",
    "import matplotlib.pyplot as plt"
   ]
  },
  {
   "cell_type": "code",
   "execution_count": 2,
   "metadata": {},
   "outputs": [],
   "source": [
    "def processing_data(data):\n",
    "    data = (pd.DataFrame(data)\n",
    "        .dropna()\n",
    "        .assign(balance_profit = lambda _df: 100 * (_df.close_balance-_df.entry_balance) / _df.close_balance)\n",
    "        .assign(profit = lambda _df: 100 * (_df.close_price-_df.entry_price) / _df.close_price)\n",
    "    )\n",
    "    return data\n",
    "\n",
    "with open('results/base_dqn/deals_history.pkl', 'rb') as f:\n",
    "    base_results = pickle.load(f)\n",
    "    base_results = processing_data(base_results)\n",
    "\n",
    "with open('results/double_dqn/deals_history.pkl', 'rb') as f:\n",
    "    double_results = pickle.load(f)\n",
    "    double_results = processing_data(double_results)\n",
    "\n",
    "with open('results/dueling_dqn/deals_history.pkl', 'rb') as f:\n",
    "    dueling_results = pickle.load(f)\n",
    "    dueling_results = processing_data(dueling_results)\n",
    "\n",
    "with open('results/rainbow_2/deals_history.pkl', 'rb') as f:\n",
    "    rainbow2_results = pickle.load(f)\n",
    "    rainbow2_results = processing_data(rainbow2_results)"
   ]
  },
  {
   "cell_type": "code",
   "execution_count": 4,
   "metadata": {},
   "outputs": [
    {
     "data": {
      "text/plain": [
       "<matplotlib.legend.Legend at 0x76535356f200>"
      ]
     },
     "execution_count": 4,
     "metadata": {},
     "output_type": "execute_result"
    },
    {
     "data": {
      "image/png": "[encoded data removed]",
      "text/plain": [
       "<Figure size 1600x400 with 1 Axes>"
      ]
     },
     "metadata": {},
     "output_type": "display_data"
    }
   ],
   "source": [
    "plt.figure(figsize=(16,4))\n",
    "plt.hist(base_results.profit, bins='auto', color='c', label='base', alpha=0.5)\n",
    "plt.hist(double_results.profit, bins='auto', color='m', label='double', alpha=0.5)\n",
    "plt.hist(dueling_results.profit, bins='auto', color='y', label='dueling', alpha=0.5)\n",
    "plt.hist(rainbow2_results.profit, bins='auto', color='y', label='rainbow2', alpha=0.5)\n",
    "plt.legend()"
   ]
  },
  {
   "cell_type": "code",
   "execution_count": 7,
   "metadata": {},
   "outputs": [
    {
     "name": "stdout",
     "output_type": "stream",
     "text": [
      "Base avg profit: 0.115\n",
      "Double avg profit: 0.063\n",
      "Dueling avg profit: 0.084\n",
      "Rainbow2 avg profit: 0.056\n"
     ]
    }
   ],
   "source": [
    "print(f'Base avg profit: {base_results.profit.mean():.3f}')\n",
    "print(f'Double avg profit: {double_results.profit.mean():.3f}')\n",
    "print(f'Dueling avg profit: {dueling_results.profit.mean():.3f}')\n",
    "print(f'Rainbow2 avg profit: {rainbow2_results.profit.mean():.3f}')"
   ]
  },
  {
   "cell_type": "code",
   "execution_count": 14,
   "metadata": {},
   "outputs": [
    {
     "name": "stdout",
     "output_type": "stream",
     "text": [
      "Base median profit: 0.084\n",
      "Double median profit: 0.041\n",
      "Dueling median profit: 0.120\n",
      "Rainbow2 median profit: 0.115\n"
     ]
    }
   ],
   "source": [
    "print(f'Base median profit: {base_results.profit.median():.3f}')\n",
    "print(f'Double median profit: {double_results.profit.median():.3f}')\n",
    "print(f'Dueling median profit: {dueling_results.profit.median():.3f}')\n",
    "print(f'Rainbow2 median profit: {rainbow2_results.profit.median():.3f}')"
   ]
  },
  {
   "cell_type": "code",
   "execution_count": 8,
   "metadata": {},
   "outputs": [
    {
     "name": "stdout",
     "output_type": "stream",
     "text": [
      "Base avg balance profit: 0.015\n",
      "Double avg balance profit: -0.037\n",
      "Dueling avg balance profit: -0.016\n",
      "Rainbow2 avg balance profit: -0.043\n"
     ]
    }
   ],
   "source": [
    "print(f'Base avg balance profit: {base_results.balance_profit.mean():.3f}')\n",
    "print(f'Double avg balance profit: {double_results.balance_profit.mean():.3f}')\n",
    "print(f'Dueling avg balance profit: {dueling_results.balance_profit.mean():.3f}')\n",
    "print(f'Rainbow2 avg balance profit: {rainbow2_results.balance_profit.mean():.3f}')"
   ]
  },
  {
   "cell_type": "code",
   "execution_count": 11,
   "metadata": {},
   "outputs": [
    {
     "name": "stdout",
     "output_type": "stream",
     "text": [
      "Clip [-0.5, 0.5] Base avg profit: 0.081\n",
      "Clip [-0.5, 0.5] Double avg profit: 0.039\n",
      "Clip [-0.5, 0.5] Dueling avg profit: 0.076\n",
      "Clip [-0.5, 0.5] Rainbow2 avg profit: 0.068\n"
     ]
    }
   ],
   "source": [
    "clip_value = 0.5\n",
    "print(f'Clip [-{clip_value}, {clip_value}] Base avg profit: {base_results.profit.clip(-clip_value,clip_value).mean():.3f}')\n",
    "print(f'Clip [-{clip_value}, {clip_value}] Double avg profit: {double_results.profit.clip(-clip_value,clip_value).mean():.3f}')\n",
    "print(f'Clip [-{clip_value}, {clip_value}] Dueling avg profit: {dueling_results.profit.clip(-clip_value,clip_value).mean():.3f}')\n",
    "print(f'Clip [-{clip_value}, {clip_value}] Rainbow2 avg profit: {rainbow2_results.profit.clip(-clip_value,clip_value).mean():.3f}')"
   ]
  },
  {
   "cell_type": "code",
   "execution_count": 12,
   "metadata": {},
   "outputs": [
    {
     "name": "stdout",
     "output_type": "stream",
     "text": [
      "Base std profit: 0.812\n",
      "Double std profit: 0.775\n",
      "Dueling std profit: 0.750\n",
      "Rainbow2 std profit: 1.127\n"
     ]
    }
   ],
   "source": [
    "print(f'Base std profit: {base_results.profit.std():.3f}')\n",
    "print(f'Double std profit: {double_results.profit.std():.3f}')\n",
    "print(f'Dueling std profit: {dueling_results.profit.std():.3f}')\n",
    "print(f'Rainbow2 std profit: {rainbow2_results.profit.std():.3f}')"
   ]
  },
  {
   "cell_type": "code",
   "execution_count": 13,
   "metadata": {},
   "outputs": [
    {
     "name": "stdout",
     "output_type": "stream",
     "text": [
      "\n"
     ]
    },
    {
     "data": {
      "image/png": "[encoded data removed]",
      "text/plain": [
       "<Figure size 1600x400 with 1 Axes>"
      ]
     },
     "metadata": {},
     "output_type": "display_data"
    }
   ],
   "source": [
    "plt.figure(figsize=(16,4))\n",
    "plt.axhline(0, linestyle='--')\n",
    "plt.boxplot([base_results.profit, double_results.profit, dueling_results.profit, rainbow2_results.profit], tick_labels=['Base', 'Double', 'Dueling', 'Rainbow2'])\n",
    "plt.ylim(-2,2)\n",
    "# plt.legend()\n",
    "print()"
   ]
  },
  {
   "cell_type": "code",
   "execution_count": 15,
   "metadata": {},
   "outputs": [
    {
     "data": {
      "text/html": [
       "<div>\n",
       "<style scoped>\n",
       "    .dataframe tbody tr th:only-of-type {\n",
       "        vertical-align: middle;\n",
       "    }\n",
       "\n",
       "    .dataframe tbody tr th {\n",
       "        vertical-align: top;\n",
       "    }\n",
       "\n",
       "    .dataframe thead th {\n",
       "        text-align: right;\n",
       "    }\n",
       "</style>\n",
       "<table border=\"1\" class=\"dataframe\">\n",
       "  <thead>\n",
       "    <tr style=\"text-align: right;\">\n",
       "      <th></th>\n",
       "      <th>profit</th>\n",
       "      <th>predict_q</th>\n",
       "    </tr>\n",
       "  </thead>\n",
       "  <tbody>\n",
       "    <tr>\n",
       "      <th>profit</th>\n",
       "      <td>1.000000</td>\n",
       "      <td>-0.004128</td>\n",
       "    </tr>\n",
       "    <tr>\n",
       "      <th>predict_q</th>\n",
       "      <td>-0.004128</td>\n",
       "      <td>1.000000</td>\n",
       "    </tr>\n",
       "  </tbody>\n",
       "</table>\n",
       "</div>"
      ],
      "text/plain": [
       "             profit  predict_q\n",
       "profit     1.000000  -0.004128\n",
       "predict_q -0.004128   1.000000"
      ]
     },
     "execution_count": 15,
     "metadata": {},
     "output_type": "execute_result"
    }
   ],
   "source": [
    "base_results[['profit', 'predict_q']].corr()"
   ]
  },
  {
   "cell_type": "code",
   "execution_count": 16,
   "metadata": {},
   "outputs": [
    {
     "data": {
      "text/html": [
       "<div>\n",
       "<style scoped>\n",
       "    .dataframe tbody tr th:only-of-type {\n",
       "        vertical-align: middle;\n",
       "    }\n",
       "\n",
       "    .dataframe tbody tr th {\n",
       "        vertical-align: top;\n",
       "    }\n",
       "\n",
       "    .dataframe thead th {\n",
       "        text-align: right;\n",
       "    }\n",
       "</style>\n",
       "<table border=\"1\" class=\"dataframe\">\n",
       "  <thead>\n",
       "    <tr style=\"text-align: right;\">\n",
       "      <th></th>\n",
       "      <th>profit</th>\n",
       "      <th>predict_q</th>\n",
       "      <th>train_result_balance</th>\n",
       "    </tr>\n",
       "  </thead>\n",
       "  <tbody>\n",
       "    <tr>\n",
       "      <th>profit</th>\n",
       "      <td>1.000000</td>\n",
       "      <td>0.022865</td>\n",
       "      <td>-0.047613</td>\n",
       "    </tr>\n",
       "    <tr>\n",
       "      <th>predict_q</th>\n",
       "      <td>0.022865</td>\n",
       "      <td>1.000000</td>\n",
       "      <td>-0.084987</td>\n",
       "    </tr>\n",
       "    <tr>\n",
       "      <th>train_result_balance</th>\n",
       "      <td>-0.047613</td>\n",
       "      <td>-0.084987</td>\n",
       "      <td>1.000000</td>\n",
       "    </tr>\n",
       "  </tbody>\n",
       "</table>\n",
       "</div>"
      ],
      "text/plain": [
       "                        profit  predict_q  train_result_balance\n",
       "profit                1.000000   0.022865             -0.047613\n",
       "predict_q             0.022865   1.000000             -0.084987\n",
       "train_result_balance -0.047613  -0.084987              1.000000"
      ]
     },
     "execution_count": 16,
     "metadata": {},
     "output_type": "execute_result"
    }
   ],
   "source": [
    "double_results[['profit', 'predict_q', 'train_result_balance']].corr()"
   ]
  },
  {
   "cell_type": "code",
   "execution_count": 17,
   "metadata": {},
   "outputs": [
    {
     "data": {
      "text/html": [
       "<div>\n",
       "<style scoped>\n",
       "    .dataframe tbody tr th:only-of-type {\n",
       "        vertical-align: middle;\n",
       "    }\n",
       "\n",
       "    .dataframe tbody tr th {\n",
       "        vertical-align: top;\n",
       "    }\n",
       "\n",
       "    .dataframe thead th {\n",
       "        text-align: right;\n",
       "    }\n",
       "</style>\n",
       "<table border=\"1\" class=\"dataframe\">\n",
       "  <thead>\n",
       "    <tr style=\"text-align: right;\">\n",
       "      <th></th>\n",
       "      <th>profit</th>\n",
       "      <th>predict_q</th>\n",
       "    </tr>\n",
       "  </thead>\n",
       "  <tbody>\n",
       "    <tr>\n",
       "      <th>profit</th>\n",
       "      <td>1.00000</td>\n",
       "      <td>0.04228</td>\n",
       "    </tr>\n",
       "    <tr>\n",
       "      <th>predict_q</th>\n",
       "      <td>0.04228</td>\n",
       "      <td>1.00000</td>\n",
       "    </tr>\n",
       "  </tbody>\n",
       "</table>\n",
       "</div>"
      ],
      "text/plain": [
       "            profit  predict_q\n",
       "profit     1.00000    0.04228\n",
       "predict_q  0.04228    1.00000"
      ]
     },
     "execution_count": 17,
     "metadata": {},
     "output_type": "execute_result"
    }
   ],
   "source": [
    "dueling_results[['profit', 'predict_q']].corr()"
   ]
  },
  {
   "cell_type": "code",
   "execution_count": 19,
   "metadata": {},
   "outputs": [
    {
     "data": {
      "text/html": [
       "<div>\n",
       "<style scoped>\n",
       "    .dataframe tbody tr th:only-of-type {\n",
       "        vertical-align: middle;\n",
       "    }\n",
       "\n",
       "    .dataframe tbody tr th {\n",
       "        vertical-align: top;\n",
       "    }\n",
       "\n",
       "    .dataframe thead th {\n",
       "        text-align: right;\n",
       "    }\n",
       "</style>\n",
       "<table border=\"1\" class=\"dataframe\">\n",
       "  <thead>\n",
       "    <tr style=\"text-align: right;\">\n",
       "      <th></th>\n",
       "      <th>profit</th>\n",
       "      <th>predict_q</th>\n",
       "    </tr>\n",
       "  </thead>\n",
       "  <tbody>\n",
       "    <tr>\n",
       "      <th>profit</th>\n",
       "      <td>1.000000</td>\n",
       "      <td>0.091969</td>\n",
       "    </tr>\n",
       "    <tr>\n",
       "      <th>predict_q</th>\n",
       "      <td>0.091969</td>\n",
       "      <td>1.000000</td>\n",
       "    </tr>\n",
       "  </tbody>\n",
       "</table>\n",
       "</div>"
      ],
      "text/plain": [
       "             profit  predict_q\n",
       "profit     1.000000   0.091969\n",
       "predict_q  0.091969   1.000000"
      ]
     },
     "execution_count": 19,
     "metadata": {},
     "output_type": "execute_result"
    }
   ],
   "source": [
    "rainbow2_results[['profit', 'predict_q']].corr()"
   ]
  },
  {
   "cell_type": "code",
   "execution_count": 20,
   "metadata": {},
   "outputs": [
    {
     "name": "stdout",
     "output_type": "stream",
     "text": [
      "Avg profit with q > 0: 0.056\n",
      "Avg profit with q > 1: 0.041\n",
      "Avg profit with q > 2: 0.057\n"
     ]
    }
   ],
   "source": [
    "print(f'Avg profit with q > 0: {rainbow2_results.query(\"predict_q > 0\").profit.mean():.3f}')\n",
    "print(f'Avg profit with q > 1: {rainbow2_results.query(\"predict_q > 1\").profit.mean():.3f}')\n",
    "print(f'Avg profit with q > 2: {rainbow2_results.query(\"predict_q > 2\").profit.mean():.3f}')"
   ]
  },
  {
   "cell_type": "code",
   "execution_count": null,
   "metadata": {},
   "outputs": [],
   "source": []
  },
  {
   "cell_type": "code",
   "execution_count": null,
   "metadata": {},
   "outputs": [],
   "source": []
  }
 ],
 "metadata": {
  "kernelspec": {
   "display_name": "Python 3",
   "language": "python",
   "name": "python3"
  },
  "language_info": {
   "codemirror_mode": {
    "name": "ipython",
    "version": 3
   },
   "file_extension": ".py",
   "mimetype": "text/x-python",
   "name": "python",
   "nbconvert_exporter": "python",
   "pygments_lexer": "ipython3",
   "version": "3.12.7"
  }
 },
 "nbformat": 4,
 "nbformat_minor": 2
}
